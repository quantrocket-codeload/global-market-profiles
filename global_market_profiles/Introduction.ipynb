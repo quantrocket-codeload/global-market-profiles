{
 "cells": [
  {
   "cell_type": "markdown",
   "metadata": {},
   "source": [
    "<a href=\"https://www.quantrocket.com\"><img alt=\"QuantRocket logo\" src=\"https://www.quantrocket.com/assets/img/notebook-header-logo.png\"></a>\n",
    "\n",
    "<a href=\"https://www.quantrocket.com/disclaimer/\">Disclaimer</a>"
   ]
  },
  {
   "cell_type": "markdown",
   "metadata": {},
   "source": [
    "# Global Market Profiles\n",
    "\n",
    "These notebooks provide comparative analysis of stock market characteristics for 17 countries, including number of listings, short sale availability, volatility, distribution of sectors, and more."
   ]
  },
  {
   "cell_type": "markdown",
   "metadata": {},
   "source": [
    "## Prerequisites\n",
    "\n",
    "The notebooks utilize global end-of-day equities data for a variety of exchanges. Data collection is not covered by this tutorial."
   ]
  },
  {
   "cell_type": "markdown",
   "metadata": {},
   "source": [
    "* [Listings Per Country](Num-Listings.ipynb)\n",
    "* [Short Sale Availability by Country](Shortable-Shares.ipynb)\n",
    "* [Most Volatile Countries](Volatility.ipynb)\n",
    "* [Primary Exchange vs Consolidated Prices](Primary-vs-Consolidated.ipynb)\n",
    "* [Sectors by Country](Sectors.ipynb)"
   ]
  }
 ],
 "metadata": {
  "kernelspec": {
   "display_name": "Python 3",
   "language": "python",
   "name": "python3"
  },
  "language_info": {
   "codemirror_mode": {
    "name": "ipython",
    "version": 3
   },
   "file_extension": ".py",
   "mimetype": "text/x-python",
   "name": "python",
   "nbconvert_exporter": "python",
   "pygments_lexer": "ipython3",
   "version": "3.7.6"
  }
 },
 "nbformat": 4,
 "nbformat_minor": 4
}
